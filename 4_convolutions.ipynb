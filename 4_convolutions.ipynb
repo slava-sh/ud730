{
 "cells": [
  {
   "cell_type": "markdown",
   "metadata": {
    "colab_type": "text",
    "id": "4embtkV0pNxM",
    "run_control": {
     "frozen": false,
     "read_only": false
    }
   },
   "source": [
    "Deep Learning\n",
    "=============\n",
    "\n",
    "Assignment 4\n",
    "------------\n",
    "\n",
    "Previously in `2_fullyconnected.ipynb` and `3_regularization.ipynb`, we trained fully connected networks to classify [notMNIST](http://yaroslavvb.blogspot.com/2011/09/notmnist-dataset.html) characters.\n",
    "\n",
    "The goal of this assignment is make the neural network convolutional."
   ]
  },
  {
   "cell_type": "code",
   "execution_count": 1,
   "metadata": {
    "cellView": "both",
    "colab": {
     "autoexec": {
      "startup": false,
      "wait_interval": 0
     }
    },
    "colab_type": "code",
    "collapsed": true,
    "id": "tm2CQN_Cpwj0",
    "run_control": {
     "frozen": false,
     "read_only": false
    }
   },
   "outputs": [],
   "source": [
    "# These are all the modules we'll be using later. Make sure you can import them\n",
    "# before proceeding further.\n",
    "from __future__ import print_function\n",
    "import numpy as np\n",
    "import tensorflow as tf\n",
    "from six.moves import cPickle as pickle\n",
    "from six.moves import range"
   ]
  },
  {
   "cell_type": "code",
   "execution_count": 2,
   "metadata": {
    "cellView": "both",
    "colab": {
     "autoexec": {
      "startup": false,
      "wait_interval": 0
     },
     "output_extras": [
      {
       "item_id": 1
      }
     ]
    },
    "colab_type": "code",
    "collapsed": false,
    "executionInfo": {
     "elapsed": 11948,
     "status": "ok",
     "timestamp": 1446658914837,
     "user": {
      "color": "",
      "displayName": "",
      "isAnonymous": false,
      "isMe": true,
      "permissionId": "",
      "photoUrl": "",
      "sessionId": "0",
      "userId": ""
     },
     "user_tz": 480
    },
    "id": "y3-cj1bpmuxc",
    "outputId": "016b1a51-0290-4b08-efdb-8c95ffc3cd01",
    "run_control": {
     "frozen": false,
     "read_only": false
    }
   },
   "outputs": [
    {
     "name": "stdout",
     "output_type": "stream",
     "text": [
      "Training set (200000, 28, 28) (200000,)\n",
      "Validation set (10000, 28, 28) (10000,)\n",
      "Test set (10000, 28, 28) (10000,)\n"
     ]
    }
   ],
   "source": [
    "pickle_file = 'data/notMNIST.pickle'\n",
    "\n",
    "with open(pickle_file, 'rb') as f:\n",
    "    save = pickle.load(f)\n",
    "    train_dataset = save['train_dataset']\n",
    "    train_labels = save['train_labels']\n",
    "    valid_dataset = save['valid_dataset']\n",
    "    valid_labels = save['valid_labels']\n",
    "    test_dataset = save['test_dataset']\n",
    "    test_labels = save['test_labels']\n",
    "    del save  # hint to help gc free up memory\n",
    "    print('Training set', train_dataset.shape, train_labels.shape)\n",
    "    print('Validation set', valid_dataset.shape, valid_labels.shape)\n",
    "    print('Test set', test_dataset.shape, test_labels.shape)"
   ]
  },
  {
   "cell_type": "markdown",
   "metadata": {
    "colab_type": "text",
    "id": "L7aHrm6nGDMB",
    "run_control": {
     "frozen": false,
     "read_only": false
    }
   },
   "source": [
    "Reformat into a TensorFlow-friendly shape:\n",
    "- convolutions need the image data formatted as a cube (width by height by #channels)\n",
    "- labels as float 1-hot encodings."
   ]
  },
  {
   "cell_type": "code",
   "execution_count": 3,
   "metadata": {
    "cellView": "both",
    "colab": {
     "autoexec": {
      "startup": false,
      "wait_interval": 0
     },
     "output_extras": [
      {
       "item_id": 1
      }
     ]
    },
    "colab_type": "code",
    "collapsed": false,
    "executionInfo": {
     "elapsed": 11952,
     "status": "ok",
     "timestamp": 1446658914857,
     "user": {
      "color": "",
      "displayName": "",
      "isAnonymous": false,
      "isMe": true,
      "permissionId": "",
      "photoUrl": "",
      "sessionId": "0",
      "userId": ""
     },
     "user_tz": 480
    },
    "id": "IRSyYiIIGIzS",
    "outputId": "650a208c-8359-4852-f4f5-8bf10e80ef6c",
    "run_control": {
     "frozen": false,
     "read_only": false
    }
   },
   "outputs": [
    {
     "name": "stdout",
     "output_type": "stream",
     "text": [
      "Training set (200000, 28, 28, 1) (200000, 10)\n",
      "Validation set (10000, 28, 28, 1) (10000, 10)\n",
      "Test set (10000, 28, 28, 1) (10000, 10)\n"
     ]
    }
   ],
   "source": [
    "image_size = 28\n",
    "num_labels = 10\n",
    "num_channels = 1  # grayscale\n",
    "\n",
    "import numpy as np\n",
    "\n",
    "\n",
    "def reformat(dataset, labels):\n",
    "    dataset = dataset.reshape(\n",
    "        (-1, image_size, image_size, num_channels)).astype(np.float32)\n",
    "    labels = (np.arange(num_labels) == labels[:, None]).astype(np.float32)\n",
    "    return dataset, labels\n",
    "\n",
    "\n",
    "train_dataset, train_labels = reformat(train_dataset, train_labels)\n",
    "valid_dataset, valid_labels = reformat(valid_dataset, valid_labels)\n",
    "test_dataset, test_labels = reformat(test_dataset, test_labels)\n",
    "print('Training set', train_dataset.shape, train_labels.shape)\n",
    "print('Validation set', valid_dataset.shape, valid_labels.shape)\n",
    "print('Test set', test_dataset.shape, test_labels.shape)"
   ]
  },
  {
   "cell_type": "code",
   "execution_count": 4,
   "metadata": {
    "cellView": "both",
    "colab": {
     "autoexec": {
      "startup": false,
      "wait_interval": 0
     }
    },
    "colab_type": "code",
    "collapsed": true,
    "id": "AgQDIREv02p1",
    "run_control": {
     "frozen": false,
     "read_only": false
    }
   },
   "outputs": [],
   "source": [
    "def accuracy(predictions, labels):\n",
    "    return (100.0 * np.sum(np.argmax(predictions, 1) == np.argmax(labels, 1))\n",
    "            / predictions.shape[0])"
   ]
  },
  {
   "cell_type": "markdown",
   "metadata": {
    "colab_type": "text",
    "id": "5rhgjmROXu2O",
    "run_control": {
     "frozen": false,
     "read_only": false
    }
   },
   "source": [
    "Let's build a small network with two convolutional layers, followed by one fully connected layer. Convolutional networks are more expensive computationally, so we'll limit its depth and number of fully connected nodes."
   ]
  },
  {
   "cell_type": "code",
   "execution_count": 5,
   "metadata": {
    "cellView": "both",
    "colab": {
     "autoexec": {
      "startup": false,
      "wait_interval": 0
     }
    },
    "colab_type": "code",
    "collapsed": true,
    "id": "IZYv70SvvOan",
    "run_control": {
     "frozen": false,
     "read_only": false
    }
   },
   "outputs": [],
   "source": [
    "batch_size = 16\n",
    "patch_size = 5\n",
    "depth = 16\n",
    "num_hidden = 64\n",
    "\n",
    "graph = tf.Graph()\n",
    "\n",
    "with graph.as_default():\n",
    "\n",
    "    # Input data.\n",
    "    tf_train_dataset = tf.placeholder(\n",
    "        tf.float32, shape=(batch_size, image_size, image_size, num_channels))\n",
    "    tf_train_labels = tf.placeholder(\n",
    "        tf.float32, shape=(batch_size, num_labels))\n",
    "    tf_valid_dataset = tf.constant(valid_dataset)\n",
    "    tf_test_dataset = tf.constant(test_dataset)\n",
    "\n",
    "    # Variables.\n",
    "    layer1_weights = tf.Variable(tf.truncated_normal(\n",
    "        [patch_size, patch_size, num_channels, depth], stddev=0.1))\n",
    "    layer1_biases = tf.Variable(tf.zeros([depth]))\n",
    "    layer2_weights = tf.Variable(tf.truncated_normal(\n",
    "        [patch_size, patch_size, depth, depth], stddev=0.1))\n",
    "    layer2_biases = tf.Variable(tf.constant(1.0, shape=[depth]))\n",
    "    layer3_weights = tf.Variable(tf.truncated_normal(\n",
    "        [image_size // 4 * image_size // 4 * depth, num_hidden], stddev=0.1))\n",
    "    layer3_biases = tf.Variable(tf.constant(1.0, shape=[num_hidden]))\n",
    "    layer4_weights = tf.Variable(tf.truncated_normal(\n",
    "        [num_hidden, num_labels], stddev=0.1))\n",
    "    layer4_biases = tf.Variable(tf.constant(1.0, shape=[num_labels]))\n",
    "\n",
    "    # Model.\n",
    "    def model(data):\n",
    "        conv = tf.nn.conv2d(data, layer1_weights, [1, 2, 2, 1], padding='SAME')\n",
    "        hidden = tf.nn.relu(conv + layer1_biases)\n",
    "        conv = tf.nn.conv2d(hidden, layer2_weights, [\n",
    "                            1, 2, 2, 1], padding='SAME')\n",
    "        hidden = tf.nn.relu(conv + layer2_biases)\n",
    "        shape = hidden.get_shape().as_list()\n",
    "        reshape = tf.reshape(\n",
    "            hidden, [shape[0], shape[1] * shape[2] * shape[3]])\n",
    "        hidden = tf.nn.relu(tf.matmul(reshape, layer3_weights) + layer3_biases)\n",
    "        return tf.matmul(hidden, layer4_weights) + layer4_biases\n",
    "\n",
    "    # Training computation.\n",
    "    logits = model(tf_train_dataset)\n",
    "    loss = tf.reduce_mean(\n",
    "        tf.nn.softmax_cross_entropy_with_logits(labels=tf_train_labels, logits=logits))\n",
    "\n",
    "    # Optimizer.\n",
    "    optimizer = tf.train.GradientDescentOptimizer(0.05).minimize(loss)\n",
    "\n",
    "    # Predictions for the training, validation, and test data.\n",
    "    train_prediction = tf.nn.softmax(logits)\n",
    "    valid_prediction = tf.nn.softmax(model(tf_valid_dataset))\n",
    "    test_prediction = tf.nn.softmax(model(tf_test_dataset))"
   ]
  },
  {
   "cell_type": "code",
   "execution_count": 6,
   "metadata": {
    "cellView": "both",
    "colab": {
     "autoexec": {
      "startup": false,
      "wait_interval": 0
     },
     "output_extras": [
      {
       "item_id": 37
      }
     ]
    },
    "colab_type": "code",
    "collapsed": false,
    "executionInfo": {
     "elapsed": 63292,
     "status": "ok",
     "timestamp": 1446658966251,
     "user": {
      "color": "",
      "displayName": "",
      "isAnonymous": false,
      "isMe": true,
      "permissionId": "",
      "photoUrl": "",
      "sessionId": "0",
      "userId": ""
     },
     "user_tz": 480
    },
    "id": "noKFb2UovVFR",
    "outputId": "28941338-2ef9-4088-8bd1-44295661e628",
    "run_control": {
     "frozen": false,
     "read_only": false
    },
    "scrolled": false
   },
   "outputs": [
    {
     "name": "stdout",
     "output_type": "stream",
     "text": [
      "Initialized\n",
      "Minibatch loss at step 0: 4.743091\n",
      "Minibatch accuracy: 12.5%\n",
      "Validation accuracy: 9.1%\n",
      "Minibatch loss at step 100: 1.177613\n",
      "Minibatch accuracy: 68.8%\n",
      "Validation accuracy: 63.8%\n",
      "Minibatch loss at step 200: 0.761327\n",
      "Minibatch accuracy: 75.0%\n",
      "Validation accuracy: 77.5%\n",
      "Minibatch loss at step 300: 0.124678\n",
      "Minibatch accuracy: 93.8%\n",
      "Validation accuracy: 79.2%\n",
      "Minibatch loss at step 400: 0.693378\n",
      "Minibatch accuracy: 75.0%\n",
      "Validation accuracy: 78.4%\n",
      "Minibatch loss at step 500: 1.013936\n",
      "Minibatch accuracy: 68.8%\n",
      "Validation accuracy: 80.5%\n",
      "Minibatch loss at step 600: 0.972424\n",
      "Minibatch accuracy: 75.0%\n",
      "Validation accuracy: 81.8%\n",
      "Minibatch loss at step 700: 0.423723\n",
      "Minibatch accuracy: 87.5%\n",
      "Validation accuracy: 82.4%\n",
      "Minibatch loss at step 800: 0.695757\n",
      "Minibatch accuracy: 75.0%\n",
      "Validation accuracy: 83.0%\n",
      "Minibatch loss at step 900: 0.454602\n",
      "Minibatch accuracy: 81.2%\n",
      "Validation accuracy: 82.7%\n",
      "Minibatch loss at step 1000: 0.285260\n",
      "Minibatch accuracy: 93.8%\n",
      "Validation accuracy: 83.6%\n",
      "Test accuracy: 90.2%\n"
     ]
    }
   ],
   "source": [
    "num_steps = 1001\n",
    "\n",
    "with tf.Session(graph=graph) as session:\n",
    "    tf.global_variables_initializer().run()\n",
    "    print('Initialized')\n",
    "    for step in range(num_steps):\n",
    "        offset = (step * batch_size) % (train_labels.shape[0] - batch_size)\n",
    "        batch_data = train_dataset[offset:(offset + batch_size), :, :, :]\n",
    "        batch_labels = train_labels[offset:(offset + batch_size), :]\n",
    "        feed_dict = {tf_train_dataset: batch_data,\n",
    "                     tf_train_labels: batch_labels}\n",
    "        _, l, predictions = session.run(\n",
    "            [optimizer, loss, train_prediction], feed_dict=feed_dict)\n",
    "        if (step % 100 == 0):\n",
    "            print('Minibatch loss at step %d: %f' % (step, l))\n",
    "            print('Minibatch accuracy: %.1f%%' %\n",
    "                  accuracy(predictions, batch_labels))\n",
    "            print('Validation accuracy: %.1f%%' % accuracy(\n",
    "                valid_prediction.eval(), valid_labels))\n",
    "    print('Test accuracy: %.1f%%' % accuracy(\n",
    "        test_prediction.eval(), test_labels))"
   ]
  },
  {
   "cell_type": "markdown",
   "metadata": {
    "colab_type": "text",
    "id": "KedKkn4EutIK",
    "run_control": {
     "frozen": false,
     "read_only": false
    }
   },
   "source": [
    "---\n",
    "Problem 1\n",
    "---------\n",
    "\n",
    "The convolutional model above uses convolutions with stride 2 to reduce the dimensionality. Replace the strides by a max pooling operation (`nn.max_pool()`) of stride 2 and kernel size 2.\n",
    "\n",
    "---"
   ]
  },
  {
   "cell_type": "code",
   "execution_count": 7,
   "metadata": {
    "collapsed": true,
    "run_control": {
     "frozen": false,
     "read_only": false
    }
   },
   "outputs": [],
   "source": [
    "def make_convnet_with_strides(num_labels=num_labels):\n",
    "    def model_fn(*, data, is_training, labels=None):\n",
    "        conv1 = tf.layers.conv2d(\n",
    "            data, depth, [patch_size, patch_size],\n",
    "            strides=2, padding='SAME',\n",
    "            activation=tf.nn.relu,\n",
    "            kernel_initializer=tf.truncated_normal_initializer(stddev=0.1),\n",
    "            bias_initializer=tf.zeros_initializer(),\n",
    "            name='conv1')\n",
    "        conv2 = tf.layers.conv2d(\n",
    "            conv1, depth, [patch_size, patch_size],\n",
    "            strides=2, padding='SAME',\n",
    "            activation=tf.nn.relu,\n",
    "            kernel_initializer=tf.truncated_normal_initializer(stddev=0.1),\n",
    "            bias_initializer=tf.constant_initializer(1.0),\n",
    "            name='conv2')\n",
    "        fc1 = tf.layers.dense(\n",
    "            tf.contrib.layers.flatten(conv2), num_hidden,\n",
    "            activation=tf.nn.relu,\n",
    "            kernel_initializer=tf.truncated_normal_initializer(stddev=0.1),\n",
    "            bias_initializer=tf.constant_initializer(1.0),\n",
    "            name='fc1')\n",
    "        logits = tf.layers.dense(\n",
    "            fc1, num_labels,\n",
    "            activation=tf.nn.relu,\n",
    "            kernel_initializer=tf.truncated_normal_initializer(stddev=0.1),\n",
    "            bias_initializer=tf.constant_initializer(1.0),\n",
    "            name='logits')\n",
    "        probs = tf.nn.softmax(logits)\n",
    "        if labels is None:\n",
    "            return probs\n",
    "        else:\n",
    "            loss = tf.reduce_mean(\n",
    "                tf.nn.softmax_cross_entropy_with_logits(labels=labels, logits=logits),\n",
    "                name='loss')\n",
    "            return probs, loss\n",
    "    return model_fn\n",
    "\n",
    "def make_logistic_regression(num_labels=num_labels):\n",
    "    def model_fn(*, data, is_training, labels=None):\n",
    "        with tf.variable_scope('logits'):\n",
    "            data = tf.contrib.layers.flatten(data)\n",
    "            logits = tf.layers.dense(\n",
    "                data, num_labels,\n",
    "                kernel_regularizer=tf.nn.l2_loss)\n",
    "        probs = tf.nn.softmax(logits, name='probs')\n",
    "        if labels is None:\n",
    "            return probs\n",
    "        else:\n",
    "            loss = tf.reduce_mean(\n",
    "                tf.nn.softmax_cross_entropy_with_logits(\n",
    "                    labels=labels, logits=logits), name='loss')\n",
    "            return probs, loss\n",
    "    return model_fn\n",
    "\n",
    "def make_adam(learning_rate=0.001):\n",
    "    def train_op_fn(loss):\n",
    "        optimizer = tf.train.AdamOptimizer(learning_rate)\n",
    "        train_op = optimizer.minimize(loss)\n",
    "        return train_op\n",
    "    return train_op_fn"
   ]
  },
  {
   "cell_type": "code",
   "execution_count": 8,
   "metadata": {
    "collapsed": false,
    "run_control": {
     "frozen": false,
     "read_only": false
    }
   },
   "outputs": [],
   "source": [
    "%matplotlib inline\n",
    "import matplotlib.pyplot as plt\n",
    "from collections import OrderedDict\n",
    "        \n",
    "class History:\n",
    "    _all_groups = ('batch', 'valid', 'test')\n",
    "    _all_metrics = ('loss', 'accuracy')\n",
    "    \n",
    "    def __init__(self):\n",
    "        self.groups = OrderedDict((group, {}) for group in self._all_groups)\n",
    "    \n",
    "    def log(self, step, group, *, loss=None, accuracy=None):\n",
    "        group = self.groups[group]\n",
    "        group.setdefault(step, {})\n",
    "        if loss is not None:\n",
    "            group[step]['loss'] = loss\n",
    "        if accuracy is not None:\n",
    "            group[step]['accuracy'] = accuracy\n",
    "            \n",
    "    def display(self, step, groups=_all_groups, metrics=_all_metrics):\n",
    "        groups = self._get_groups(groups)\n",
    "        columns = ['step: {}'.format(step)]\n",
    "        for metric in metrics:\n",
    "            for name, group in groups.items():\n",
    "                if step not in group or metric not in group[step]:\n",
    "                    continue\n",
    "                value = group[step][metric]\n",
    "                columns.append('{group} {metric}: {value:.3f}'.format(\n",
    "                    group=name, metric=metric, value=value))\n",
    "        print('  '.join(columns))\n",
    "\n",
    "    def plot(self, groups=_all_groups, metrics=_all_metrics, title=None):\n",
    "        groups = self._get_groups(groups)\n",
    "        plt.figure(figsize=(12, 4))\n",
    "        if title is not None:\n",
    "            plt.suptitle(title)\n",
    "        for i, metric in enumerate(metrics):\n",
    "            plt.subplot(1, len(metrics), i + 1)\n",
    "            for name, group in groups.items():\n",
    "                steps, values = [], []\n",
    "                for step in sorted(group.keys()):\n",
    "                    if metric not in group[step]:\n",
    "                        continue\n",
    "                    steps.append(step)\n",
    "                    values.append(group[step][metric])\n",
    "                if steps:\n",
    "                    plt.plot(steps, values, '.-', label=name)\n",
    "            plt.gca().set_xlim(xmin=0)\n",
    "            if metric == 'loss':\n",
    "                plt.gca().set_ylim(ymin=0)\n",
    "            if metric == 'accuracy':\n",
    "                plt.gca().set_ylim(ymax=105)\n",
    "            plt.title(metric)\n",
    "            plt.xlabel('step')\n",
    "            plt.legend()\n",
    "            plt.grid()\n",
    "        plt.show()\n",
    "        \n",
    "    def _get_groups(self, group_names):\n",
    "        return OrderedDict((name, self.groups[name]) for name in group_names)"
   ]
  },
  {
   "cell_type": "code",
   "execution_count": 9,
   "metadata": {
    "collapsed": false,
    "run_control": {
     "frozen": false,
     "read_only": false
    },
    "scrolled": false
   },
   "outputs": [
    {
     "name": "stdout",
     "output_type": "stream",
     "text": [
      "running logistic regression\n",
      "step: 0  batch loss: 2.489  valid loss: 2.291  batch accuracy: 9.375  valid accuracy: 16.230\n",
      "step: 100  batch loss: 0.709  valid loss: 0.796  batch accuracy: 83.594  valid accuracy: 79.070\n",
      "step: 200  batch loss: 0.719  valid loss: 0.727  batch accuracy: 80.469  valid accuracy: 81.020\n",
      "step: 300  batch loss: 0.854  valid loss: 0.700  batch accuracy: 77.344  valid accuracy: 81.470\n",
      "step: 400  batch loss: 0.657  valid loss: 0.688  batch accuracy: 85.156  valid accuracy: 82.060\n",
      "step: 500  batch loss: 0.657  valid loss: 0.681  batch accuracy: 82.812  valid accuracy: 82.120\n",
      "step: 600  batch loss: 0.615  valid loss: 0.675  batch accuracy: 82.031  valid accuracy: 82.010\n",
      "step: 700  batch loss: 0.702  valid loss: 0.669  batch accuracy: 79.688  valid accuracy: 82.460\n",
      "step: 800  batch loss: 0.789  valid loss: 0.664  batch accuracy: 78.906  valid accuracy: 82.560\n",
      "step: 900  batch loss: 0.923  valid loss: 0.663  batch accuracy: 77.344  valid accuracy: 82.690\n",
      "step: 1000  batch loss: 0.707  valid loss: 0.661  batch accuracy: 82.031  valid accuracy: 82.730\n",
      "step: 1000  test accuracy: 89.140\n"
     ]
    },
    {
     "data": {
      "image/png": "[encoded data removed]",
      "text/plain": [
       "<matplotlib.figure.Figure at 0x7f3b0d3ebef0>"
      ]
     },
     "metadata": {},
     "output_type": "display_data"
    }
   ],
   "source": [
    "def run(title, model_fn, train_op_fn=None,\n",
    "        num_steps=1001, batch_size=128, regularization_strength=0.0,\n",
    "        train_data=train_dataset, train_labels=train_labels,\n",
    "        valid_data=valid_dataset, valid_labels=valid_labels,\n",
    "        test_data=test_dataset, test_labels=test_labels):\n",
    "    print('running', title)\n",
    "\n",
    "    graph = tf.Graph()\n",
    "    with graph.as_default():\n",
    "        data = tf.placeholder(tf.float32, [None, *train_data.shape[1:]],\n",
    "                              name='data')\n",
    "        labels = tf.placeholder(tf.float32, [None, *train_labels.shape[1:]],\n",
    "                                name='labels')\n",
    "        predictions, loss = model_fn(data=data, labels=labels, is_training=True)\n",
    "        if regularization_strength is not None:\n",
    "            loss += regularization_strength * tf.reduce_sum(\n",
    "                tf.get_collection(tf.GraphKeys.REGULARIZATION_LOSSES),\n",
    "                name='regularization_loss')\n",
    "        with tf.variable_scope('train_op'):\n",
    "            if train_op_fn is None:\n",
    "                train_op_fn = make_adam()\n",
    "            train_op = train_op_fn(loss)\n",
    "        with tf.variable_scope(tf.get_variable_scope(), reuse=True):\n",
    "            valid_predictions, valid_loss = model_fn(\n",
    "                data=tf.constant(valid_data, name='valid_data'),\n",
    "                labels=tf.constant(valid_labels, name='valid_labels'),\n",
    "                is_training=False)\n",
    "            test_predictions = model_fn(\n",
    "                data=tf.constant(test_data, name='test_data'),\n",
    "                is_training=False)\n",
    "    \n",
    "    with tf.Session(graph=graph) as sess:\n",
    "        tf.global_variables_initializer().run()\n",
    "        history = History()\n",
    "        for step in range(num_steps):\n",
    "            offset = step * batch_size % (train_data.shape[0] - batch_size)\n",
    "            batch_data = train_data[offset:(offset + batch_size), :]\n",
    "            batch_labels = train_labels[offset:(offset + batch_size), :]\n",
    "            _, batch_loss, batch_predictions = sess.run(\n",
    "                [train_op, loss, predictions],\n",
    "                feed_dict={\n",
    "                    data: batch_data,\n",
    "                    labels: batch_labels,\n",
    "                })\n",
    "            if step % 100 == 0:\n",
    "                valid_loss_, valid_predictions_ = sess.run([valid_loss, valid_predictions])\n",
    "                history.log(step, 'batch', loss=batch_loss,\n",
    "                            accuracy=accuracy(batch_predictions, batch_labels))\n",
    "                history.log(step, 'valid', loss=valid_loss_,\n",
    "                            accuracy=accuracy(valid_predictions_, valid_labels))\n",
    "                history.display(step)\n",
    "        history.log(step, 'test', accuracy=accuracy(test_predictions.eval(), test_labels))\n",
    "        history.display(step, ['test'])\n",
    "        history.plot(title=title)\n",
    "        \n",
    "run('logistic regression', make_logistic_regression())"
   ]
  },
  {
   "cell_type": "code",
   "execution_count": 13,
   "metadata": {
    "collapsed": false
   },
   "outputs": [
    {
     "name": "stdout",
     "output_type": "stream",
     "text": [
      "running convolutional neural network (strides)\n",
      "step: 0  batch loss: 2.994  valid loss: 2.479  batch accuracy: 7.031  valid accuracy: 9.590\n",
      "step: 100  batch loss: 0.674  valid loss: 0.725  batch accuracy: 82.031  valid accuracy: 80.010\n",
      "step: 200  batch loss: 0.696  valid loss: 0.628  batch accuracy: 80.469  valid accuracy: 81.720\n",
      "step: 300  batch loss: 0.710  valid loss: 0.577  batch accuracy: 77.344  valid accuracy: 83.280\n",
      "step: 400  batch loss: 0.516  valid loss: 0.536  batch accuracy: 85.938  valid accuracy: 84.230\n",
      "step: 500  batch loss: 0.426  valid loss: 0.516  batch accuracy: 87.500  valid accuracy: 84.510\n",
      "step: 600  batch loss: 0.433  valid loss: 0.493  batch accuracy: 85.938  valid accuracy: 85.160\n",
      "step: 700  batch loss: 0.455  valid loss: 0.476  batch accuracy: 85.156  valid accuracy: 85.710\n",
      "step: 800  batch loss: 0.610  valid loss: 0.454  batch accuracy: 80.469  valid accuracy: 86.390\n",
      "step: 900  batch loss: 0.581  valid loss: 0.450  batch accuracy: 81.250  valid accuracy: 86.620\n",
      "step: 1000  batch loss: 0.407  valid loss: 0.434  batch accuracy: 86.719  valid accuracy: 87.270\n",
      "step: 1000  test accuracy: 93.180\n"
     ]
    },
    {
     "data": {
      "image/png": "[encoded data removed]",
      "text/plain": [
       "<matplotlib.figure.Figure at 0x7f3b04f0d0f0>"
      ]
     },
     "metadata": {},
     "output_type": "display_data"
    }
   ],
   "source": [
    "run('convolutional neural network (strides)', make_convnet_with_strides())"
   ]
  },
  {
   "cell_type": "code",
   "execution_count": 11,
   "metadata": {
    "collapsed": false
   },
   "outputs": [
    {
     "name": "stdout",
     "output_type": "stream",
     "text": [
      "running convolutional neural network (pooling)\n",
      "step: 0  batch loss: 2.917  valid loss: 2.532  batch accuracy: 12.500  valid accuracy: 11.200\n",
      "step: 100  batch loss: 1.029  valid loss: 1.095  batch accuracy: 66.406  valid accuracy: 64.830\n",
      "step: 200  batch loss: 0.881  valid loss: 0.823  batch accuracy: 69.531  valid accuracy: 73.660\n",
      "step: 300  batch loss: 0.816  valid loss: 0.755  batch accuracy: 73.438  valid accuracy: 75.620\n",
      "step: 400  batch loss: 0.621  valid loss: 0.711  batch accuracy: 78.125  valid accuracy: 76.490\n",
      "step: 500  batch loss: 0.558  valid loss: 0.683  batch accuracy: 82.031  valid accuracy: 77.300\n",
      "step: 600  batch loss: 0.632  valid loss: 0.667  batch accuracy: 79.688  valid accuracy: 77.770\n",
      "step: 700  batch loss: 0.593  valid loss: 0.662  batch accuracy: 80.469  valid accuracy: 77.920\n",
      "step: 800  batch loss: 0.842  valid loss: 0.640  batch accuracy: 71.094  valid accuracy: 78.270\n",
      "step: 900  batch loss: 0.706  valid loss: 0.627  batch accuracy: 75.781  valid accuracy: 78.830\n",
      "step: 1000  batch loss: 0.609  valid loss: 0.615  batch accuracy: 78.906  valid accuracy: 79.090\n",
      "step: 1000  test accuracy: 84.570\n"
     ]
    },
    {
     "data": {
      "image/png": "[encoded data removed]",
      "text/plain": [
       "<matplotlib.figure.Figure at 0x7f3b0d37b390>"
      ]
     },
     "metadata": {},
     "output_type": "display_data"
    }
   ],
   "source": [
    "def make_convnet_with_pooling(num_labels=num_labels):\n",
    "    def model_fn(*, data, is_training, labels=None):\n",
    "        conv1 = tf.layers.conv2d(\n",
    "            data, depth, [patch_size, patch_size],\n",
    "            strides=1, padding='SAME',\n",
    "            activation=tf.nn.relu,\n",
    "            kernel_initializer=tf.truncated_normal_initializer(stddev=0.1),\n",
    "            bias_initializer=tf.zeros_initializer(),\n",
    "            name='conv1')\n",
    "        conv1 = tf.layers.max_pooling2d(\n",
    "            conv1, pool_size=2, strides=2, padding='SAME')\n",
    "        conv2 = tf.layers.conv2d(\n",
    "            conv1, depth, [patch_size, patch_size],\n",
    "            strides=1, padding='SAME',\n",
    "            activation=tf.nn.relu,\n",
    "            kernel_initializer=tf.truncated_normal_initializer(stddev=0.1),\n",
    "            bias_initializer=tf.constant_initializer(1.0),\n",
    "            name='conv2')\n",
    "        conv2 = tf.layers.max_pooling2d(\n",
    "            conv2, pool_size=2, strides=2, padding='SAME')\n",
    "        fc1 = tf.layers.dense(\n",
    "            tf.contrib.layers.flatten(conv2), num_hidden,\n",
    "            activation=tf.nn.relu,\n",
    "            kernel_initializer=tf.truncated_normal_initializer(stddev=0.1),\n",
    "            bias_initializer=tf.constant_initializer(1.0),\n",
    "            name='fc1')\n",
    "        logits = tf.layers.dense(\n",
    "            fc1, num_labels,\n",
    "            activation=tf.nn.relu,\n",
    "            kernel_initializer=tf.truncated_normal_initializer(stddev=0.1),\n",
    "            bias_initializer=tf.constant_initializer(1.0),\n",
    "            name='logits')\n",
    "        probs = tf.nn.softmax(logits)\n",
    "        if labels is None:\n",
    "            return probs\n",
    "        else:\n",
    "            loss = tf.reduce_mean(\n",
    "                tf.nn.softmax_cross_entropy_with_logits(labels=labels, logits=logits),\n",
    "                name='loss')\n",
    "            return probs, loss\n",
    "    return model_fn\n",
    "\n",
    "run('convolutional neural network (pooling)', make_convnet_with_pooling())"
   ]
  },
  {
   "cell_type": "markdown",
   "metadata": {
    "colab_type": "text",
    "id": "klf21gpbAgb-",
    "run_control": {
     "frozen": false,
     "read_only": false
    }
   },
   "source": [
    "---\n",
    "Problem 2\n",
    "---------\n",
    "\n",
    "Try to get the best performance you can using a convolutional net. Look for example at the classic [LeNet5](http://yann.lecun.com/exdb/lenet/) architecture, adding Dropout, and/or adding learning rate decay.\n",
    "\n",
    "---"
   ]
  },
  {
   "cell_type": "code",
   "execution_count": 12,
   "metadata": {
    "collapsed": false
   },
   "outputs": [
    {
     "name": "stdout",
     "output_type": "stream",
     "text": [
      "running convolutional neural network\n",
      "step: 0  batch loss: 4.009  valid loss: 2.603  batch accuracy: 12.500  valid accuracy: 10.120\n",
      "step: 100  batch loss: 1.739  valid loss: 1.519  batch accuracy: 39.062  valid accuracy: 59.460\n",
      "step: 200  batch loss: 1.224  valid loss: 0.791  batch accuracy: 64.844  valid accuracy: 77.710\n",
      "step: 300  batch loss: 1.180  valid loss: 0.638  batch accuracy: 67.188  valid accuracy: 81.090\n",
      "step: 400  batch loss: 0.646  valid loss: 0.579  batch accuracy: 78.125  valid accuracy: 82.620\n",
      "step: 500  batch loss: 0.776  valid loss: 0.547  batch accuracy: 77.344  valid accuracy: 83.320\n",
      "step: 600  batch loss: 0.701  valid loss: 0.527  batch accuracy: 82.031  valid accuracy: 84.060\n",
      "step: 700  batch loss: 0.574  valid loss: 0.520  batch accuracy: 81.250  valid accuracy: 84.110\n",
      "step: 800  batch loss: 0.882  valid loss: 0.497  batch accuracy: 72.656  valid accuracy: 84.890\n",
      "step: 900  batch loss: 0.819  valid loss: 0.487  batch accuracy: 75.781  valid accuracy: 85.200\n",
      "step: 1000  batch loss: 0.560  valid loss: 0.474  batch accuracy: 82.812  valid accuracy: 85.560\n",
      "step: 1000  test accuracy: 92.010\n"
     ]
    },
    {
     "data": {
      "image/png": "[encoded data removed]",
      "text/plain": [
       "<matplotlib.figure.Figure at 0x7f3b04a33ba8>"
      ]
     },
     "metadata": {},
     "output_type": "display_data"
    }
   ],
   "source": [
    "def make_convnet(num_labels=num_labels, dropout_keep_prob=0.5):\n",
    "    def model_fn(*, data, is_training, labels=None):\n",
    "        def conv(name, x, depth, kernel_size=3, strides=1, pool_size=2, pool_strides=2):\n",
    "            with tf.variable_scope(name):\n",
    "                x = tf.layers.conv2d(\n",
    "                    x, depth,\n",
    "                    kernel_size=kernel_size, strides=strides, padding='SAME',\n",
    "                    activation=tf.nn.relu,\n",
    "                    kernel_initializer=tf.truncated_normal_initializer(stddev=0.1),\n",
    "                    bias_initializer=tf.zeros_initializer())\n",
    "                x = tf.layers.max_pooling2d(\n",
    "                    x, pool_size=pool_size, strides=pool_strides, padding='SAME')\n",
    "                x = tf.layers.dropout(\n",
    "                    x, dropout_keep_prob, training=is_training)\n",
    "            return x\n",
    "        \n",
    "        def fc(name, x, size):\n",
    "            with tf.variable_scope(name):\n",
    "                x = tf.layers.dense(\n",
    "                    x, size,\n",
    "                    activation=tf.nn.relu,\n",
    "                    kernel_initializer=tf.truncated_normal_initializer(stddev=0.1),\n",
    "                    bias_initializer=tf.constant_initializer(1.0))\n",
    "                x = tf.layers.dropout(\n",
    "                    x, dropout_keep_prob, training=is_training)\n",
    "            return x\n",
    "        \n",
    "        conv1 = conv('conv1', data, depth=16)\n",
    "        conv2 = conv('conv2', conv1, depth=64)\n",
    "        conv2 = tf.contrib.layers.flatten(conv2)\n",
    "        fc1 = fc('fc1', conv2, size=128)\n",
    "        fc2 = fc('fc2', fc1, size=64)\n",
    "\n",
    "        logits = tf.layers.dense(\n",
    "            fc2, num_labels,\n",
    "            activation=tf.nn.relu,\n",
    "            kernel_initializer=tf.truncated_normal_initializer(stddev=0.1),\n",
    "            bias_initializer=tf.constant_initializer(1.0),\n",
    "            name='logits')\n",
    "        probs = tf.nn.softmax(logits)\n",
    "        if labels is None:\n",
    "            return probs\n",
    "        else:\n",
    "            loss = tf.reduce_mean(\n",
    "                tf.nn.softmax_cross_entropy_with_logits(\n",
    "                    labels=labels, logits=logits),\n",
    "                name='loss')\n",
    "            return probs, loss\n",
    "    return model_fn\n",
    "\n",
    "run('convolutional neural network', make_convnet())"
   ]
  }
 ],
 "metadata": {
  "anaconda-cloud": {},
  "colab": {
   "default_view": {},
   "name": "4_convolutions.ipynb",
   "provenance": [],
   "version": "0.3.2",
   "views": {}
  },
  "kernelspec": {
   "display_name": "Python [default]",
   "language": "python",
   "name": "python3"
  },
  "language_info": {
   "codemirror_mode": {
    "name": "ipython",
    "version": 3
   },
   "file_extension": ".py",
   "mimetype": "text/x-python",
   "name": "python",
   "nbconvert_exporter": "python",
   "pygments_lexer": "ipython3",
   "version": "3.5.3"
  }
 },
 "nbformat": 4,
 "nbformat_minor": 0
}
